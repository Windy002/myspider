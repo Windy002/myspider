{
 "cells": [
  {
   "cell_type": "code",
   "execution_count": 16,
   "metadata": {},
   "outputs": [],
   "source": [
    "import requests\n",
    "from lxml import etree\n",
    "import csv\n",
    "import pandas as pd"
   ]
  },
  {
   "cell_type": "code",
   "execution_count": 63,
   "metadata": {},
   "outputs": [],
   "source": [
    "top250_url = 'https://movie.douban.com/top250?start={}&filter='\n",
    "movie_name = '名称'\n",
    "movie_year = '年份'\n",
    "movie_country = '国家'\n",
    "movie_type = '类型'\n",
    "movie_director = '导演'\n",
    "movie_assess = '评价人数'\n",
    "movie_score = '评分'\n",
    "movie_quote = '经典影评'\n",
    "movie_url = '电影网址'\n",
    "\n",
    "\n",
    "headers={\n",
    "    'user-Agent':'Mozilla/5.0 (Windows NT 10.0; Win64; x64) AppleWebKit/537.36 (KHTML, like Gecko) Chrome/126.0.6478.127 Safari/537.36'\n",
    "}\n"
   ]
  },
  {
   "cell_type": "code",
   "execution_count": 68,
   "metadata": {},
   "outputs": [],
   "source": [
    "movie_num = 0 #电影排名\n",
    "with open('top250_movie.csv','w',newline='',encoding='utf-8') as f:\n",
    "\n",
    "    writer = csv.writer(f)\n",
    "\n",
    "    writer.writerow(['电影排名', '电影名称', '电影年份', '国家', '电影类型', '导演', '经典影评', '评论数', '评分', '电影网址'])\n",
    "\n",
    "    for pages in range(10):\n",
    "\n",
    "        movie_content = requests.get(top250_url.format(pages * 25),headers=headers).text\n",
    "        selector = etree.HTML(movie_content)\n",
    "        all_list = selector.xpath('//*[@id=\"content\"]/div/div[1]/ol/li')\n",
    "\n",
    "        for item in all_list:\n",
    "            movie_name = item.xpath('div/div[2]/div[1]/a/span[1]/text()')[0]\n",
    "            movie_assess = item.xpath('div/div[2]/div[2]/div/span[4]/text()')[0]\n",
    "            movie_score = item.xpath('div/div[2]/div[2]/div/span[2]/text()')[0]\n",
    "            movie_url = item.xpath('div/div[2]/div[1]/a/@href')[0]\n",
    "            try:\n",
    "                movie_quote = item.xpath('div/div[2]/div[2]/p[2]/span/text()')[0]\n",
    "            except IndexError:\n",
    "                movie_quote = 'None' #有些电影没有影评 做特殊处理\n",
    "            movie_num += 1\n",
    "            #处理电影介绍信息\n",
    "            #电影介绍信息\n",
    "            movie_intro = item.xpath('div/div[2]/div[2]/p[1]/text()')\n",
    "            movie_actor_infos = movie_intro[0].lstrip().split('\\xa0\\xa0\\xa0')#将原始字符串按照指定的分隔符切分并去除首尾的空白字符，返回包含分割后部分的列表。\n",
    "            movie_other_infos = movie_intro[1].lstrip().rstrip().split('\\xa0/\\xa0')\n",
    "            #导演信息\n",
    "            movie_director = movie_actor_infos[0][3:]\n",
    "            #电影上影年份\n",
    "            movie_year = movie_other_infos[0]\n",
    "            #电影的国家\n",
    "            movie_country = movie_other_infos[1]\n",
    "            #电影类型\n",
    "            movie_type = movie_other_infos[2]\n",
    "\n",
    "            \n",
    "            writer.writerow([movie_num, movie_name, movie_year, movie_country, movie_type, movie_director, movie_quote, movie_assess, movie_score, movie_url])\n",
    "\n",
    "            \n",
    "        "
   ]
  },
  {
   "cell_type": "code",
   "execution_count": 45,
   "metadata": {},
   "outputs": [],
   "source": [
    "headers={\n",
    "    'user-Agent':'Mozilla/5.0 (Windows NT 10.0; Win64; x64) AppleWebKit/537.36 (KHTML, like Gecko) Chrome/126.0.6478.127 Safari/537.36'\n",
    "}\n",
    "url = 'https://movie.douban.com/top250?start=0&filter='\n",
    "data = requests.get(url, headers=headers).text"
   ]
  },
  {
   "cell_type": "code",
   "execution_count": 46,
   "metadata": {},
   "outputs": [],
   "source": [
    "selector = etree.HTML(data)"
   ]
  },
  {
   "cell_type": "code",
   "execution_count": 47,
   "metadata": {},
   "outputs": [],
   "source": [
    "#电影标题\n",
    "film = selector.xpath('//*[@id=\"content\"]/div/div[1]/ol/li')"
   ]
  },
  {
   "cell_type": "code",
   "execution_count": 62,
   "metadata": {},
   "outputs": [],
   "source": [
    "for div in film:\n",
    "    title = div.xpath('div/div[2]/div[1]/a/span[1]/text()')[0]\n",
    "    describe = div.xpath('div/div[2]/div[2]/p[1]/text()')\n",
    "    url = div.xpath('div/div[2]/div[1]/a/@href')[0]\n",
    "    comments_nums = div.xpath('div/div[2]/div[2]/div/span[4]/text()')[0]\n",
    "    comments = div.xpath('div/div[2]/div[2]/p[2]/span/text()')[0]\n",
    "    "
   ]
  },
  {
   "cell_type": "code",
   "execution_count": 61,
   "metadata": {},
   "outputs": [
    {
     "data": {
      "text/plain": [
       "['https://movie.douban.com/subject/20495023/']"
      ]
     },
     "execution_count": 61,
     "metadata": {},
     "output_type": "execute_result"
    }
   ],
   "source": [
    "url"
   ]
  },
  {
   "cell_type": "code",
   "execution_count": 35,
   "metadata": {},
   "outputs": [
    {
     "data": {
      "text/plain": [
       "'\\n                            导演: 李·昂克里奇 Lee Unkrich / 阿德里安·莫利纳 Adrian Molina\\xa0\\xa0\\xa0主演: ...'"
      ]
     },
     "execution_count": 35,
     "metadata": {},
     "output_type": "execute_result"
    }
   ],
   "source": [
    "describe[0]\n",
    "\n"
   ]
  },
  {
   "cell_type": "code",
   "execution_count": 24,
   "metadata": {},
   "outputs": [
    {
     "data": {
      "text/plain": [
       "['导演: 弗兰克·德拉邦特 Frank Darabont', '主演: 蒂姆·罗宾斯 Tim Robbins /...']"
      ]
     },
     "execution_count": 24,
     "metadata": {},
     "output_type": "execute_result"
    }
   ],
   "source": [
    "describe[0].lstrip().split('\\xa0\\xa0\\xa0')"
   ]
  },
  {
   "cell_type": "code",
   "execution_count": 25,
   "metadata": {},
   "outputs": [
    {
     "data": {
      "text/plain": [
       "'\\n                            1994\\xa0/\\xa0美国\\xa0/\\xa0犯罪 剧情\\n                        '"
      ]
     },
     "execution_count": 25,
     "metadata": {},
     "output_type": "execute_result"
    }
   ],
   "source": [
    "describe[1]"
   ]
  },
  {
   "cell_type": "code",
   "execution_count": 26,
   "metadata": {},
   "outputs": [
    {
     "data": {
      "text/plain": [
       "['1994', '美国', '犯罪 剧情']"
      ]
     },
     "execution_count": 26,
     "metadata": {},
     "output_type": "execute_result"
    }
   ],
   "source": [
    "describe[1].lstrip().rstrip().split('\\xa0/\\xa0')#.lstrip().rstrip()去除首尾空白字符 .split()然后进行分割"
   ]
  },
  {
   "cell_type": "code",
   "execution_count": 27,
   "metadata": {},
   "outputs": [
    {
     "data": {
      "text/plain": [
       "'3033963人评价'"
      ]
     },
     "execution_count": 27,
     "metadata": {},
     "output_type": "execute_result"
    }
   ],
   "source": [
    "comments_nums"
   ]
  },
  {
   "cell_type": "code",
   "execution_count": 28,
   "metadata": {},
   "outputs": [
    {
     "data": {
      "text/plain": [
       "'3033963'"
      ]
     },
     "execution_count": 28,
     "metadata": {},
     "output_type": "execute_result"
    }
   ],
   "source": [
    "comments_nums[:-3]"
   ]
  },
  {
   "cell_type": "code",
   "execution_count": 69,
   "metadata": {},
   "outputs": [
    {
     "data": {
      "text/html": [
       "<div>\n",
       "<style scoped>\n",
       "    .dataframe tbody tr th:only-of-type {\n",
       "        vertical-align: middle;\n",
       "    }\n",
       "\n",
       "    .dataframe tbody tr th {\n",
       "        vertical-align: top;\n",
       "    }\n",
       "\n",
       "    .dataframe thead th {\n",
       "        text-align: right;\n",
       "    }\n",
       "</style>\n",
       "<table border=\"1\" class=\"dataframe\">\n",
       "  <thead>\n",
       "    <tr style=\"text-align: right;\">\n",
       "      <th></th>\n",
       "      <th>电影排名</th>\n",
       "      <th>电影名称</th>\n",
       "      <th>电影年份</th>\n",
       "      <th>国家</th>\n",
       "      <th>电影类型</th>\n",
       "      <th>导演</th>\n",
       "      <th>经典影评</th>\n",
       "      <th>评论数</th>\n",
       "      <th>评分</th>\n",
       "      <th>电影网址</th>\n",
       "    </tr>\n",
       "  </thead>\n",
       "  <tbody>\n",
       "    <tr>\n",
       "      <th>0</th>\n",
       "      <td>1</td>\n",
       "      <td>肖申克的救赎</td>\n",
       "      <td>1994</td>\n",
       "      <td>美国</td>\n",
       "      <td>犯罪 剧情</td>\n",
       "      <td>弗兰克·德拉邦特 Frank Darabont</td>\n",
       "      <td>希望让人自由。</td>\n",
       "      <td>3033983人评价</td>\n",
       "      <td>9.7</td>\n",
       "      <td>https://movie.douban.com/subject/1292052/</td>\n",
       "    </tr>\n",
       "    <tr>\n",
       "      <th>1</th>\n",
       "      <td>2</td>\n",
       "      <td>霸王别姬</td>\n",
       "      <td>1993</td>\n",
       "      <td>中国大陆 中国香港</td>\n",
       "      <td>剧情 爱情 同性</td>\n",
       "      <td>陈凯歌 Kaige Chen</td>\n",
       "      <td>风华绝代。</td>\n",
       "      <td>2242587人评价</td>\n",
       "      <td>9.6</td>\n",
       "      <td>https://movie.douban.com/subject/1291546/</td>\n",
       "    </tr>\n",
       "    <tr>\n",
       "      <th>2</th>\n",
       "      <td>3</td>\n",
       "      <td>阿甘正传</td>\n",
       "      <td>1994</td>\n",
       "      <td>美国</td>\n",
       "      <td>剧情 爱情</td>\n",
       "      <td>罗伯特·泽米吉斯 Robert Zemeckis</td>\n",
       "      <td>一部美国近现代史。</td>\n",
       "      <td>2260671人评价</td>\n",
       "      <td>9.5</td>\n",
       "      <td>https://movie.douban.com/subject/1292720/</td>\n",
       "    </tr>\n",
       "    <tr>\n",
       "      <th>3</th>\n",
       "      <td>4</td>\n",
       "      <td>泰坦尼克号</td>\n",
       "      <td>1997</td>\n",
       "      <td>美国 墨西哥</td>\n",
       "      <td>剧情 爱情 灾难</td>\n",
       "      <td>詹姆斯·卡梅隆 James Cameron</td>\n",
       "      <td>失去的才是永恒的。</td>\n",
       "      <td>2299851人评价</td>\n",
       "      <td>9.5</td>\n",
       "      <td>https://movie.douban.com/subject/1292722/</td>\n",
       "    </tr>\n",
       "    <tr>\n",
       "      <th>4</th>\n",
       "      <td>5</td>\n",
       "      <td>千与千寻</td>\n",
       "      <td>2001</td>\n",
       "      <td>日本</td>\n",
       "      <td>剧情 动画 奇幻</td>\n",
       "      <td>宫崎骏 Hayao Miyazaki</td>\n",
       "      <td>最好的宫崎骏，最好的久石让。</td>\n",
       "      <td>2348828人评价</td>\n",
       "      <td>9.4</td>\n",
       "      <td>https://movie.douban.com/subject/1291561/</td>\n",
       "    </tr>\n",
       "    <tr>\n",
       "      <th>...</th>\n",
       "      <td>...</td>\n",
       "      <td>...</td>\n",
       "      <td>...</td>\n",
       "      <td>...</td>\n",
       "      <td>...</td>\n",
       "      <td>...</td>\n",
       "      <td>...</td>\n",
       "      <td>...</td>\n",
       "      <td>...</td>\n",
       "      <td>...</td>\n",
       "    </tr>\n",
       "    <tr>\n",
       "      <th>245</th>\n",
       "      <td>246</td>\n",
       "      <td>谍影重重</td>\n",
       "      <td>2002</td>\n",
       "      <td>美国 德国 捷克</td>\n",
       "      <td>动作 悬疑 惊悚</td>\n",
       "      <td>道格·里曼 Doug Liman</td>\n",
       "      <td>哗啦啦啦啦，天在下雨，哗啦啦啦啦，云在哭泣……找自己。</td>\n",
       "      <td>450225人评价</td>\n",
       "      <td>8.6</td>\n",
       "      <td>https://movie.douban.com/subject/1304102/</td>\n",
       "    </tr>\n",
       "    <tr>\n",
       "      <th>246</th>\n",
       "      <td>247</td>\n",
       "      <td>阿飞正传</td>\n",
       "      <td>1990</td>\n",
       "      <td>中国香港</td>\n",
       "      <td>犯罪 剧情 爱情</td>\n",
       "      <td>王家卫 Kar Wai Wong</td>\n",
       "      <td>王家卫是一种风格，张国荣是一个代表。</td>\n",
       "      <td>535916人评价</td>\n",
       "      <td>8.5</td>\n",
       "      <td>https://movie.douban.com/subject/1305690/</td>\n",
       "    </tr>\n",
       "    <tr>\n",
       "      <th>247</th>\n",
       "      <td>248</td>\n",
       "      <td>朗读者</td>\n",
       "      <td>2008</td>\n",
       "      <td>美国 德国</td>\n",
       "      <td>剧情 爱情</td>\n",
       "      <td>史蒂芬·戴德利 Stephen Daldry</td>\n",
       "      <td>当爱情跨越年龄的界限，它似乎能变得更久远一点，成为一种责任，一种水到渠成的相濡以沫。</td>\n",
       "      <td>467903人评价</td>\n",
       "      <td>8.6</td>\n",
       "      <td>https://movie.douban.com/subject/2213597/</td>\n",
       "    </tr>\n",
       "    <tr>\n",
       "      <th>248</th>\n",
       "      <td>249</td>\n",
       "      <td>隐藏人物</td>\n",
       "      <td>2016</td>\n",
       "      <td>美国</td>\n",
       "      <td>剧情 传记 历史</td>\n",
       "      <td>特奥多尔·梅尔菲 Theodore Melfi</td>\n",
       "      <td>NaN</td>\n",
       "      <td>234958人评价</td>\n",
       "      <td>8.9</td>\n",
       "      <td>https://movie.douban.com/subject/26615208/</td>\n",
       "    </tr>\n",
       "    <tr>\n",
       "      <th>249</th>\n",
       "      <td>250</td>\n",
       "      <td>再次出发之纽约遇见你</td>\n",
       "      <td>2013</td>\n",
       "      <td>美国</td>\n",
       "      <td>喜剧 爱情 音乐</td>\n",
       "      <td>约翰·卡尼 John Carney</td>\n",
       "      <td>爱我就给我看你的播放列表。</td>\n",
       "      <td>445046人评价</td>\n",
       "      <td>8.6</td>\n",
       "      <td>https://movie.douban.com/subject/6874403/</td>\n",
       "    </tr>\n",
       "  </tbody>\n",
       "</table>\n",
       "<p>250 rows × 10 columns</p>\n",
       "</div>"
      ],
      "text/plain": [
       "     电影排名        电影名称  电影年份         国家      电影类型                         导演  \\\n",
       "0       1      肖申克的救赎  1994         美国     犯罪 剧情    弗兰克·德拉邦特 Frank Darabont   \n",
       "1       2        霸王别姬  1993  中国大陆 中国香港  剧情 爱情 同性             陈凯歌 Kaige Chen   \n",
       "2       3        阿甘正传  1994         美国     剧情 爱情   罗伯特·泽米吉斯 Robert Zemeckis   \n",
       "3       4       泰坦尼克号  1997     美国 墨西哥  剧情 爱情 灾难      詹姆斯·卡梅隆 James Cameron   \n",
       "4       5        千与千寻  2001         日本  剧情 动画 奇幻         宫崎骏 Hayao Miyazaki   \n",
       "..    ...         ...   ...        ...       ...                        ...   \n",
       "245   246        谍影重重  2002   美国 德国 捷克  动作 悬疑 惊悚           道格·里曼 Doug Liman   \n",
       "246   247        阿飞正传  1990       中国香港  犯罪 剧情 爱情           王家卫 Kar Wai Wong   \n",
       "247   248         朗读者  2008      美国 德国     剧情 爱情     史蒂芬·戴德利 Stephen Daldry   \n",
       "248   249        隐藏人物  2016         美国  剧情 传记 历史    特奥多尔·梅尔菲 Theodore Melfi   \n",
       "249   250  再次出发之纽约遇见你  2013         美国  喜剧 爱情 音乐          约翰·卡尼 John Carney   \n",
       "\n",
       "                                            经典影评         评论数   评分  \\\n",
       "0                                        希望让人自由。  3033983人评价  9.7   \n",
       "1                                          风华绝代。  2242587人评价  9.6   \n",
       "2                                      一部美国近现代史。  2260671人评价  9.5   \n",
       "3                                     失去的才是永恒的。   2299851人评价  9.5   \n",
       "4                                最好的宫崎骏，最好的久石让。   2348828人评价  9.4   \n",
       "..                                           ...         ...  ...   \n",
       "245                  哗啦啦啦啦，天在下雨，哗啦啦啦啦，云在哭泣……找自己。   450225人评价  8.6   \n",
       "246                           王家卫是一种风格，张国荣是一个代表。   535916人评价  8.5   \n",
       "247  当爱情跨越年龄的界限，它似乎能变得更久远一点，成为一种责任，一种水到渠成的相濡以沫。    467903人评价  8.6   \n",
       "248                                          NaN   234958人评价  8.9   \n",
       "249                                爱我就给我看你的播放列表。   445046人评价  8.6   \n",
       "\n",
       "                                           电影网址  \n",
       "0     https://movie.douban.com/subject/1292052/  \n",
       "1     https://movie.douban.com/subject/1291546/  \n",
       "2     https://movie.douban.com/subject/1292720/  \n",
       "3     https://movie.douban.com/subject/1292722/  \n",
       "4     https://movie.douban.com/subject/1291561/  \n",
       "..                                          ...  \n",
       "245   https://movie.douban.com/subject/1304102/  \n",
       "246   https://movie.douban.com/subject/1305690/  \n",
       "247   https://movie.douban.com/subject/2213597/  \n",
       "248  https://movie.douban.com/subject/26615208/  \n",
       "249   https://movie.douban.com/subject/6874403/  \n",
       "\n",
       "[250 rows x 10 columns]"
      ]
     },
     "execution_count": 69,
     "metadata": {},
     "output_type": "execute_result"
    }
   ],
   "source": [
    "df = pd.read_csv(\"top250_movie.csv\",encoding = 'utf-8')\n",
    "\n",
    "df"
   ]
  }
 ],
 "metadata": {
  "kernelspec": {
   "display_name": "Python 3",
   "language": "python",
   "name": "python3"
  },
  "language_info": {
   "codemirror_mode": {
    "name": "ipython",
    "version": 3
   },
   "file_extension": ".py",
   "mimetype": "text/x-python",
   "name": "python",
   "nbconvert_exporter": "python",
   "pygments_lexer": "ipython3",
   "version": "3.11.3"
  }
 },
 "nbformat": 4,
 "nbformat_minor": 2
}
